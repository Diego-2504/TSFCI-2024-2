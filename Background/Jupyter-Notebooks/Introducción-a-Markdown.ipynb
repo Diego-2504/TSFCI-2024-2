{
 "cells": [
  {
   "cell_type": "markdown",
   "metadata": {},
   "source": [
    "<font size=2>\n",
    "\n",
    "**Introducción a las redes neuronales y sus aplicaciones en la Geociencia**  by Karen Cruz in licensed under <a href=\"https://creativecommons.org/licenses/by-nc-nd/4.0?ref=chooser-v1\">Attribution-NonCommercial-NoDerivatives 4.0 International</a>\n",
    "\n",
    "\n",
    "* Para ejecutar una celda teclear: [Shift + Enter] \n"
   ]
  },
  {
   "cell_type": "markdown",
   "metadata": {},
   "source": [
    "<font size=4>\n",
    "\n",
    "\n",
    "En el presente notebook se presentan algunas utilidades de las celdas tipo Markdown y las celdas tipo code.\n",
    "\n",
    "> **1. Tipo de celda Markdown**\n",
    "\n",
    "\n",
    "  - Cambiar a celda tipo markdown\n",
    "  \n",
    "  \n",
    "  - Color del texto\n",
    "  \n",
    "  \n",
    "  - Encabezados\n",
    "  \n",
    "  \n",
    "  - Tamaño del texto\n",
    "  \n",
    "  \n",
    "  - Imágenes\n",
    "  \n",
    "  \n",
    "  - Ecuaciones\n",
    "  \n",
    "  \n",
    "  - Tablas\n",
    "  \n",
    "  \n",
    "  - Referencias\n",
    "  \n",
    "  \n",
    "  \n",
    "> **2. Celda de tipo code**\n",
    "\n",
    "\n",
    "  - Código\n",
    "  \n",
    "  \n",
    "  - Terminal\n",
    "     "
   ]
  },
  {
   "cell_type": "markdown",
   "metadata": {},
   "source": [
    "<font color='cornflowerblue' size=4>\n",
    "    \n",
    "# 1. Tipo de celda *Markdown* "
   ]
  },
  {
   "cell_type": "markdown",
   "metadata": {},
   "source": [
    "<font size=4>\n",
    "\n",
    "Cuando iniciamos un notebook (nb), generalmente comenzamos dando una descripción del trabajo a realizar, la celda de tipo **Markdown** permite anexar texto, imágenes, tablas, etc. \n",
    "\n",
    "Tiene una sintaxis específica que se puede ver haciendo doble clic en la celda de tipo Markdown correspondiente.\n",
    "\n",
    "Para elegir este tipo de celda, puede utilizar cualquiera de los siguientes tres métodos:"
   ]
  },
  {
   "cell_type": "markdown",
   "metadata": {},
   "source": [
    "<font color='cornflowerblue'>\n",
    "    <font size=4>\n",
    "\n",
    "1.  En la barra de herramientas, vaya a **Cell > Cell Type > Markdown**."
   ]
  },
  {
   "cell_type": "markdown",
   "metadata": {},
   "source": [
    "<img src = \"images/cell_type.png\" style=\"width:450px;height:300px;\">"
   ]
  },
  {
   "cell_type": "markdown",
   "metadata": {},
   "source": [
    "<font color='cornflowerblue' size=4>\n",
    "\n",
    "2. Haga clic en el botón que esta entre los siguientes dos:\n",
    "\n",
    "<img src='images/c.PNG'> <img src='images/cmd.PNG'>\n",
    "\n",
    "y seleccione la celda de tipo Markdown."
   ]
  },
  {
   "cell_type": "markdown",
   "metadata": {},
   "source": [
    "<img src='images/code.png' style=\"width:250px;height:150px;\">"
   ]
  },
  {
   "cell_type": "markdown",
   "metadata": {},
   "source": [
    "<font color='cornflowerblue' size=4>\n",
    "    \n",
    "\n",
    "3. Selecciona la celda (clic sobre In [ ]:) y teclea la letra **m**."
   ]
  },
  {
   "cell_type": "markdown",
   "metadata": {},
   "source": [
    "<img src = 'images/F2.PNG' style=\"width:250px;height:100px;\">"
   ]
  },
  {
   "cell_type": "markdown",
   "metadata": {},
   "source": [
    "<font color='cornflowerblue'>\n",
    "\n",
    "NOTA: La celda actual y las celdas anteriores son de tipo Markdown, para ver el formato, haga doble clic sobre cualquiera de las celdas mencionadas."
   ]
  },
  {
   "cell_type": "markdown",
   "metadata": {},
   "source": [
    "<font color='cornflowerblue' size=4>\n",
    "\n",
    "> ### Color del texto"
   ]
  },
  {
   "cell_type": "markdown",
   "metadata": {},
   "source": [
    "<font size=4>\n",
    "\n",
    "Para elegir el color del texto se usa la siguiente sintaxis:"
   ]
  },
  {
   "cell_type": "raw",
   "metadata": {},
   "source": [
    "<font color = 'name_color'>"
   ]
  },
  {
   "cell_type": "markdown",
   "metadata": {},
   "source": [
    "<font size=4>\n",
    "\n",
    "y el texto después de este comando será del color *name_color*.\n",
    "\n",
    "En la siguiente celda hay un ejemplo:"
   ]
  },
  {
   "cell_type": "raw",
   "metadata": {},
   "source": [
    "<font size=4>\n",
    "\n",
    "<font color='red'>\n",
    "    \n",
    "This text is red. \n",
    "\n",
    "<font color='orange'>\n",
    "    \n",
    "This text is orange. \n",
    "\n",
    "<font color='yellow'>\n",
    "    \n",
    "This text is yellow. \n",
    "\n",
    "<font color='green'>\n",
    "    \n",
    "This text is green. \n",
    "\n",
    "<font color='blue'>\n",
    "    \n",
    "This text is blue. \n",
    "\n",
    "<font color='purple'>\n",
    "    \n",
    "This text is purple. "
   ]
  },
  {
   "cell_type": "markdown",
   "metadata": {},
   "source": [
    "<font size=4>\n",
    "    \n",
    "     resultado:\n",
    "\n",
    "<font color='red'>\n",
    "    \n",
    "This text is red. \n",
    "\n",
    "<font color='orange'>\n",
    "    \n",
    "This text is orange. \n",
    "\n",
    "<font color='yellow'>\n",
    "    \n",
    "This text is yellow. \n",
    "\n",
    "<font color='green'>\n",
    "    \n",
    "This text is green. \n",
    "\n",
    "<font color='blue'>\n",
    "    \n",
    "This text is blue. \n",
    "\n",
    "<font color='purple'>\n",
    "    \n",
    "This text is purple. "
   ]
  },
  {
   "cell_type": "markdown",
   "metadata": {},
   "source": [
    "<font size=4>\n",
    "\n",
    "Por defecto, si el color no se especifica es negro."
   ]
  },
  {
   "cell_type": "markdown",
   "metadata": {},
   "source": [
    "<font color='cornflowerblue' size=4>\n",
    "\n",
    "> ### Encabezados y tamaño del texto"
   ]
  },
  {
   "cell_type": "markdown",
   "metadata": {},
   "source": [
    "<font size=4>\n",
    "\n",
    "Puede variar el tamaño del encabezado con el símbolo #. Cuantos más símbolos (#) tenga, más pequeño será. En la siguiente celda hay un ejemplo."
   ]
  },
  {
   "cell_type": "raw",
   "metadata": {},
   "source": [
    "# Encabezado con 1 símbolo \n",
    "\n",
    "## Encabezado con 2 simbolos \n",
    "\n",
    "### Encabezado con 3 simbolos \n",
    "\n",
    "#### Encabezado con 4 simbolos \n",
    "\n",
    "##### Encabezado con 5 simbolos "
   ]
  },
  {
   "cell_type": "markdown",
   "metadata": {},
   "source": [
    "    resultado:\n",
    "\n",
    "# Encabezado con 1 símbolo \n",
    "\n",
    "## Encabezado con 2 simbolos \n",
    "\n",
    "### Encabezado con 3 simbolos \n",
    "\n",
    "#### Encabezado con 4 simbolos \n",
    "\n",
    "##### Encabezado con 5 simbolos \n"
   ]
  },
  {
   "cell_type": "markdown",
   "metadata": {},
   "source": [
    "<font size=4>\n",
    "\n",
    "El número máximo de símbolos para los que se obtiene un resultado diferente es cinco, con cuatro # se tiene el tamaño más pequeño y con cinco se tiene tipo cursiva.\n",
    "\n",
    "Cuando se utiliza cualquier número de símbolos #, el texto resultante está en negrita.\n",
    "\n",
    "Para poner el texto en negrita, se debe escribir entre **."
   ]
  },
  {
   "cell_type": "raw",
   "metadata": {},
   "source": [
    "**Texto en negrita**"
   ]
  },
  {
   "cell_type": "markdown",
   "metadata": {},
   "source": [
    "<font size=4>\n",
    "    \n",
    "    resultado:\n",
    "\n",
    "**Texto en negrita**"
   ]
  },
  {
   "cell_type": "markdown",
   "metadata": {},
   "source": [
    "<font size=4>\n",
    "\n",
    "El tamaño de fuente se cambia con el siguiente comando:"
   ]
  },
  {
   "cell_type": "raw",
   "metadata": {},
   "source": [
    "<font size = 4>   "
   ]
  },
  {
   "cell_type": "markdown",
   "metadata": {},
   "source": [
    "<font size=4>\n",
    "    \n",
    "   Hola"
   ]
  },
  {
   "cell_type": "markdown",
   "metadata": {},
   "source": [
    "<font size=5>\n",
    "    \n",
    "   Hola"
   ]
  },
  {
   "cell_type": "markdown",
   "metadata": {},
   "source": [
    "<font size=6>\n",
    "    \n",
    "   Hola  "
   ]
  },
  {
   "cell_type": "markdown",
   "metadata": {},
   "source": [
    "<font size=7>\n",
    "    \n",
    "   Hola"
   ]
  },
  {
   "cell_type": "markdown",
   "metadata": {},
   "source": [
    "<font color='cornflowerblue' size=4>\n",
    "\n",
    "\n",
    "> ### Imágenes"
   ]
  },
  {
   "cell_type": "markdown",
   "metadata": {},
   "source": [
    "<font size=4>\n",
    "\n",
    "Para insertar una imagen se usa el siguiente comando:"
   ]
  },
  {
   "cell_type": "raw",
   "metadata": {},
   "source": [
    "<img src = 'imagepath.extention'>"
   ]
  },
  {
   "cell_type": "markdown",
   "metadata": {},
   "source": [
    "<font size=4>\n",
    "    \n",
    "     Nota: es muy importante notar que la ruta de la imagen debe agregarse correctamente, de lo contrario la imagen no se verá.\n",
    "\n",
    "En la siguiente celda hay un ejemplo de imagen. Dentro del último comando puede especificar el tamaño de la imagen agregando:"
   ]
  },
  {
   "cell_type": "raw",
   "metadata": {},
   "source": [
    "style = \"width: 450px; height: 550px;\""
   ]
  },
  {
   "cell_type": "markdown",
   "metadata": {},
   "source": [
    "<font size=4>\n",
    "\n",
    "y puede cambiar los números 450 y 550 que son el ancho y alto de la imagen, respectivamente."
   ]
  },
  {
   "cell_type": "markdown",
   "metadata": {},
   "source": [
    "<img src = 'images/small20203.jpg' style=\"width:650px;height:600px;\">"
   ]
  },
  {
   "cell_type": "markdown",
   "metadata": {},
   "source": [
    "<font size=4>\n",
    "\n",
    "Si desea agregar una descripción a la imagen, puede usar la siguiente sintaxis:"
   ]
  },
  {
   "cell_type": "raw",
   "metadata": {},
   "source": [
    "<img src = \"images/logout.png\">\n",
    "<figcaption> <center> Fig. 1 Black soldier fly by Maikl Gribkov. </center> </figcaption>"
   ]
  },
  {
   "cell_type": "markdown",
   "metadata": {},
   "source": [
    "<font size=4>\n",
    "\n",
    "Ejemplo:"
   ]
  },
  {
   "cell_type": "markdown",
   "metadata": {},
   "source": [
    "<img src = \"images/small20203.jpg\" style=\"width:650px;height:600px;\">\n",
    "<figcaption> <center> Fig. 1 Black soldier fly by Maikl Gribkov. </center> </figcaption>"
   ]
  },
  {
   "cell_type": "markdown",
   "metadata": {},
   "source": [
    "__________________"
   ]
  },
  {
   "cell_type": "markdown",
   "metadata": {},
   "source": [
    "<font color='rosybrown'>\n",
    "    <font size=4>\n",
    "        \n",
    "**1. Ejercicio**"
   ]
  },
  {
   "cell_type": "markdown",
   "metadata": {},
   "source": [
    "<font size=4>\n",
    "\n",
    "I. Agrega una celda debajo de esta. Hay dos maneras de hacerlo:"
   ]
  },
  {
   "cell_type": "markdown",
   "metadata": {},
   "source": [
    "<font size=4>\n",
    "\n",
    "1. Da clic sobre el botón **+** y automáticamente se agrega una celda debajo de la celda actual seleccionada.\n",
    "\n",
    "<img src='images/plus.PNG'>"
   ]
  },
  {
   "cell_type": "markdown",
   "metadata": {},
   "source": [
    "\n",
    "<font size=4>\n",
    "    \n",
    "2. En la barra de herramientas, vaya a **Insert>Insert Cell Below**:\n",
    "\n",
    "<img src='images/cell_be.PNG'>"
   ]
  },
  {
   "cell_type": "markdown",
   "metadata": {},
   "source": [
    "<font size=4>\n",
    "\n",
    "II. Convierta la celda al tipo Markdown usando cualquiera de los tres métodos vistos al principio. "
   ]
  },
  {
   "cell_type": "markdown",
   "metadata": {},
   "source": [
    "<font size=4>\n",
    "\n",
    "III. Vaya a [openAI](https://openai.com), elija un artículo de interés y escriba una pequeña reseña usando las utilidades revisadas.\n"
   ]
  },
  {
   "cell_type": "markdown",
   "metadata": {},
   "source": [
    "<font size=3>\n",
    "\n",
    "*Agrega las celdas que necesites.*"
   ]
  },
  {
   "cell_type": "markdown",
   "metadata": {},
   "source": [
    "_______________"
   ]
  },
  {
   "cell_type": "markdown",
   "metadata": {},
   "source": [
    "<font color='cornflowerblue'>\n",
    "<font size=4>\n",
    "    \n",
    "> ### Ecuaciones"
   ]
  },
  {
   "cell_type": "markdown",
   "metadata": {},
   "source": [
    "<font size=4>\n",
    "     \n",
    "También podemos escribir ecuaciones usando el mismo formato que en latex, por ejemplo, en la siguiente celda presentamos la ecuación de Richardson:"
   ]
  },
  {
   "cell_type": "raw",
   "metadata": {},
   "source": [
    "$ 1 + 2V\\Sigma_{\\nu´ \\neq \\nu}^{W} (E_{\\nu}-E_{\\nu´})^{-1} + V\\Sigma_{s=1}^{N_{s}} (2\\epsilon_{s}-E_{\\nu})^{-1} = 0  $"
   ]
  },
  {
   "cell_type": "markdown",
   "metadata": {},
   "source": [
    "<font size=4>\n",
    "    \n",
    "    resultado:\n",
    "\n",
    "$ 1 + 2V\\Sigma_{\\nu´ \\neq \\nu}^{W} (E_{\\nu}-E_{\\nu´})^{-1} + V\\Sigma_{s=1}^{N_{s}} (2\\epsilon_{s}-E_{\\nu})^{-1} = 0  $"
   ]
  },
  {
   "cell_type": "markdown",
   "metadata": {},
   "source": [
    "<font size=4>\n",
    "\n",
    "Para indicar que el formato utilizado corresponde a una ecuación, la ecuación se escribe entre los símbolos $.\n",
    "\n",
    "Para centrar la ecuación, se utilizan dos símbolos $ al principio y al final de la ecuación:"
   ]
  },
  {
   "cell_type": "raw",
   "metadata": {},
   "source": [
    "$$ 1 + 2V\\Sigma_{\\nu´ \\neq \\nu}^{W} (E_{\\nu}-E_{\\nu´})^{-1} + V\\Sigma_{s=1}^{N_{s}} (2\\epsilon_{s}-E_{\\nu})^{-1} = 0  $$"
   ]
  },
  {
   "cell_type": "markdown",
   "metadata": {},
   "source": [
    "<font size=4>\n",
    "    \n",
    "    resultado:\n",
    "\n",
    "$$ 1 + 2V\\Sigma_{\\nu´ \\neq \\nu}^{W} (E_{\\nu}-E_{\\nu´})^{-1} + V\\Sigma_{s=1}^{N_{s}} (2\\epsilon_{s}-E_{\\nu})^{-1} = 0  $$"
   ]
  },
  {
   "cell_type": "markdown",
   "metadata": {},
   "source": [
    "<font size=4>\n",
    "\n",
    "\n",
    "Si no sabe cómo poner un símbolo puede consultar en esta página: [Detexify](http://detexify.kirelabs.org/classify.html)"
   ]
  },
  {
   "cell_type": "markdown",
   "metadata": {},
   "source": [
    "<font color='cornflowerblue'>\n",
    "    <font size=4>\n",
    "\n",
    "> ### Tablas"
   ]
  },
  {
   "cell_type": "markdown",
   "metadata": {},
   "source": [
    "<font size=4>\n",
    "\n",
    "Para hacer una tabla usamos el siguiente formato:"
   ]
  },
  {
   "cell_type": "raw",
   "metadata": {},
   "source": [
    "| column1 | column2 | column3| ... | columnN |\n",
    "| --- | --- | --- | --- | --- | \n",
    "| val1 | val2 | val3 | ... | valN |"
   ]
  },
  {
   "cell_type": "markdown",
   "metadata": {},
   "source": [
    "<font size=4>\n",
    "\n",
    "lo que se ve como sigue:"
   ]
  },
  {
   "cell_type": "markdown",
   "metadata": {},
   "source": [
    "\n",
    "| column1 | column2 | column3| ... | columnN |\n",
    "| --- | --- | --- | --- | --- |\n",
    "| val1 | val2 | val3 | ... | valN |"
   ]
  },
  {
   "cell_type": "markdown",
   "metadata": {},
   "source": [
    "<font size=4>\n",
    "\n",
    "Cada columna está encerrada entre pipes (|).\n",
    "\n",
    "Para poner líneas horizontales, se encierran tres guiones (-) entre pipes (|). Debe haber tantos guiones encerrados como columnas.\n",
    "\n",
    "Para cada fila se escribe una línea, respetando el número de columnas dado en la primera fila."
   ]
  },
  {
   "cell_type": "markdown",
   "metadata": {},
   "source": [
    "<font color='cornflowerblue'>\n",
    "<font size=4>\n",
    "    \n",
    "> ### Referencias"
   ]
  },
  {
   "cell_type": "markdown",
   "metadata": {},
   "source": [
    "<font size=4>\n",
    "Para poner una referencia se utiliza la siguiente sintaxis:"
   ]
  },
  {
   "cell_type": "raw",
   "metadata": {},
   "source": [
    "[name_reference](url)"
   ]
  },
  {
   "cell_type": "markdown",
   "metadata": {},
   "source": [
    "<font size=4>\n",
    "\n",
    "por ejemplo, en la siguiente celda, se crea un acceso directo a la página Playground TensorFlow:"
   ]
  },
  {
   "cell_type": "raw",
   "metadata": {},
   "source": [
    "[Playground TensorFlow](https://playground.tensorflow.org/#activation=tanh&batchSize=10&dataset=circle&regDataset=reg-plane&learningRate=0.03&regularizationRate=0&noise=0&networkShape=4,2&seed=0.56812&showTestData=false&discretize=false&percTrainData=50&x=true&y=true&xTimesY=false&xSquared=false&ySquared=false&cosX=false&sinX=false&cosY=false&sinY=false&collectStats=false&problem=classification&initZero=false&hideText=false)"
   ]
  },
  {
   "cell_type": "markdown",
   "metadata": {},
   "source": [
    "<font size=4>\n",
    "    \n",
    "    resultado:\n",
    "\n",
    "[Playground TensorFlow](https://playground.tensorflow.org/#activation=tanh&batchSize=10&dataset=circle&regDataset=reg-plane&learningRate=0.03&regularizationRate=0&noise=0&networkShape=4,2&seed=0.56812&showTestData=false&discretize=false&percTrainData=50&x=true&y=true&xTimesY=false&xSquared=false&ySquared=false&cosX=false&sinX=false&cosY=false&sinY=false&collectStats=false&problem=classification&initZero=false&hideText=false)"
   ]
  },
  {
   "cell_type": "markdown",
   "metadata": {},
   "source": [
    "<font size=4>\n",
    "\n",
    "Así puede acceder a cualquier página desde la notebook con solo un clic (debe especificar su URL).\n",
    "\n",
    "También podemos acceder a los documentos que se encuentran en nuestra computadora:"
   ]
  },
  {
   "cell_type": "raw",
   "metadata": {},
   "source": [
    "<a href=\"path_reference\">name_reference</a>"
   ]
  },
  {
   "cell_type": "markdown",
   "metadata": {},
   "source": [
    "<font size=4>\n",
    "    \n",
    "    De nuevo, es muy importante dar la ruta correcta, de lo contrario no se encontrara el archivo solicitado.\n",
    "\n",
    "por ejemplo:"
   ]
  },
  {
   "cell_type": "markdown",
   "metadata": {},
   "source": [
    "<font size=4>\n",
    "\n",
    "puedes ir directamente al libro de Michael Nielsen con un solo clic (debes tener el archivo pdf indicado en la ruta indicada): <a href=\"nielsen.pdf\">Neural Networks and Deep Learning</a>"
   ]
  },
  {
   "cell_type": "markdown",
   "metadata": {},
   "source": [
    "<font color='cornflowerblue'>\n",
    "<font size=4>\n",
    "    \n",
    "## 2. Celda tipo *code*"
   ]
  },
  {
   "cell_type": "markdown",
   "metadata": {},
   "source": [
    "<font size=4>\n",
    "\n",
    "De forma predeterminada, cada celda creada es de tipo código.\n",
    "\n",
    "Ahora usaremos una celda de tipo de código, ya que estamos usando el kernel de Python, el código de muestra corresponde al lenguaje de programación Python:"
   ]
  },
  {
   "cell_type": "code",
   "execution_count": 4,
   "metadata": {},
   "outputs": [
    {
     "name": "stdout",
     "output_type": "stream",
     "text": [
      "The current number in the for loop is:  0\n",
      "The current number in the for loop is:  1\n",
      "The current number in the for loop is:  2\n",
      "The current number in the for loop is:  3\n",
      "The current number in the for loop is:  4\n",
      "The current number in the for loop is:  5\n"
     ]
    }
   ],
   "source": [
    "for i in range(6):\n",
    "    print('The current number in the for loop is: ', i)"
   ]
  },
  {
   "cell_type": "markdown",
   "metadata": {},
   "source": [
    "<font size=4>\n",
    "\n",
    "Como puede ver, en las celdas de código aparece el símbolo **In [ ]:** y dentro de [ ] aparece un número después de compilar la celda. Este número corresponde al número de celda que se ha compilado."
   ]
  },
  {
   "cell_type": "markdown",
   "metadata": {},
   "source": [
    "<font size=4>\n",
    "\n",
    "\n",
    "Otro uso útil en un notebook de Jupyter es que puede usar los comandos de un terminal simplemente colocando el símbolo **!** seguido del comando en un tipo de celda de código."
   ]
  },
  {
   "cell_type": "code",
   "execution_count": 6,
   "metadata": {},
   "outputs": [
    {
     "name": "stderr",
     "output_type": "stream",
     "text": [
      "'ls' is not recognized as an internal or external command,\n",
      "operable program or batch file.\n"
     ]
    }
   ],
   "source": [
    "! ls"
   ]
  },
  {
   "cell_type": "code",
   "execution_count": 7,
   "metadata": {},
   "outputs": [
    {
     "name": "stdout",
     "output_type": "stream",
     "text": [
      "Requirement already satisfied: numpy in c:\\users\\larec_4\\miniconda3\\envs\\karen\\lib\\site-packages (1.16.5)\n"
     ]
    }
   ],
   "source": [
    "! pip install numpy"
   ]
  },
  {
   "cell_type": "markdown",
   "metadata": {},
   "source": [
    "<font color='cornflowerblue'>\n",
    "    <font size=4>\n",
    "\n",
    "## ¡Excelente, terminamos nuestro primer notebook!"
   ]
  },
  {
   "cell_type": "markdown",
   "metadata": {},
   "source": [
    "<font size=4>\n",
    "\n",
    "Vamos a descargar nuestro trabajo, para ello se hace lo siguiente:\n",
    "\n",
    "Ve a **File > Download as >**\n",
    "\n",
    "<img src='images/save.png' style=\"width:350px;height:450px;\">"
   ]
  },
  {
   "cell_type": "markdown",
   "metadata": {},
   "source": [
    "<font size=4>\n",
    "\n",
    "y escoje el formato deseado. \n",
    "\n",
    "[nbconvert](https://nbconvert.readthedocs.io/en/latest/install.html#installing-tex.)"
   ]
  }
 ],
 "metadata": {
  "kernelspec": {
   "display_name": "Python 3",
   "language": "python",
   "name": "python3"
  },
  "language_info": {
   "codemirror_mode": {
    "name": "ipython",
    "version": 3
   },
   "file_extension": ".py",
   "mimetype": "text/x-python",
   "name": "python",
   "nbconvert_exporter": "python",
   "pygments_lexer": "ipython3",
   "version": "3.9.0"
  }
 },
 "nbformat": 4,
 "nbformat_minor": 2
}
